{
  "nbformat": 4,
  "nbformat_minor": 0,
  "metadata": {
    "colab": {
      "provenance": [],
      "authorship_tag": "ABX9TyPM/xaH2HJm2aDUAWsOyCoT",
      "include_colab_link": true
    },
    "kernelspec": {
      "name": "python3",
      "display_name": "Python 3"
    },
    "language_info": {
      "name": "python"
    }
  },
  "cells": [
    {
      "cell_type": "markdown",
      "metadata": {
        "id": "view-in-github",
        "colab_type": "text"
      },
      "source": [
        "<a href=\"https://colab.research.google.com/github/Danaevc302/programacion-basica-302-i/blob/main/Actlabs%20302/ActLab1.ipynb\" target=\"_parent\"><img src=\"https://colab.research.google.com/assets/colab-badge.svg\" alt=\"Open In Colab\"/></a>"
      ]
    },
    {
      "cell_type": "code",
      "execution_count": null,
      "metadata": {
        "id": "an-0llEkp3oQ"
      },
      "outputs": [],
      "source": []
    },
    {
      "cell_type": "markdown",
      "source": [
        "PB302_2.cpp Programa para imprimir datos personales"
      ],
      "metadata": {
        "id": "cvnXI7e9q6HU"
      }
    },
    {
      "cell_type": "code",
      "source": [
        "%%writefile PB302_2.cpp\n",
        "//programa para mostrar datos personales\n",
        "//creado por Danae Vazquez Carrillo\n",
        "//Fecha:18/09/2025\n",
        "//PB302_2.cpp\n",
        "#include <iostream>\n",
        "using namespace std;\n",
        "int main()\n",
        "{\n",
        "  char nombre[10]=\"Danae\";\n",
        "  char paterno[10]=\"Vazquez\";\n",
        "  char materno[10]=\"Carrillo\";\n",
        "  int edad=15;\n",
        "  char direccion[40]=\"Rio lena 4517\";\n",
        "  char fechanac[20]=\"6/12/2009\";\n",
        "  char ciudadnac[240]=\"Albuquerque Nuevo Mexico\";\n",
        "  cout<<\"Tu nombre completo es:\\n\";\n",
        "  cout<<nombre<<\"\\n\";\n",
        "  cout<<paterno<<\"\\n\";\n",
        "  cout<<materno<<\"\\n\";\n",
        "  cout<<edad<<\"\\n\";\n",
        "  cout<<direccion<<\"\\n\";\n",
        "  cout<<fechanac<<\"\\n\";\n",
        "  cout<<ciudadnac<<\"\\n\";\n",
        "  return 0;\n",
        "}"
      ],
      "metadata": {
        "colab": {
          "base_uri": "https://localhost:8080/"
        },
        "id": "MQHuXtosrJh8",
        "outputId": "a11c48cf-76c8-418e-af17-f973aacf62c3"
      },
      "execution_count": 23,
      "outputs": [
        {
          "output_type": "stream",
          "name": "stdout",
          "text": [
            "Overwriting PB302_2.cpp\n"
          ]
        }
      ]
    },
    {
      "cell_type": "code",
      "source": [
        "!g++ PB302_2.cpp -o PB302_2.exe\n",
        "!./PB302_2.exe"
      ],
      "metadata": {
        "colab": {
          "base_uri": "https://localhost:8080/"
        },
        "id": "Efr9mf2Awm_n",
        "outputId": "f3ef3671-a6d6-4683-dbe2-59eca7702834"
      },
      "execution_count": 24,
      "outputs": [
        {
          "output_type": "stream",
          "name": "stdout",
          "text": [
            "Tu nombre completo es:\n",
            "Danae\n",
            "Vazquez\n",
            "Carrillo\n",
            "15\n",
            "Rio lena 4517\n",
            "6/12/2009\n",
            "Albuquerque Nuevo Mexico\n"
          ]
        }
      ]
    }
  ]
}